{
 "cells": [
  {
   "cell_type": "markdown",
   "metadata": {},
   "source": [
    "# 1.3 Structured Outputs - Reliable Data from LLMs\n",
    "\n",
    "This notebook covers **Structured Outputs** - one of OpenAI's most powerful features for production applications.\n",
    "\n",
    "**Key Topics:**\n",
    "- Why structured outputs matter\n",
    "- Structured Outputs vs JSON mode\n",
    "- Using Pydantic for schema definition\n",
    "- Common use cases (extraction, classification, forms)\n",
    "- Streaming structured outputs\n",
    "- Error handling and refusals\n",
    "\n",
    "**Why this matters:** Getting reliable, validated data from LLMs is critical for production applications. Structured Outputs guarantees that model output matches your schema.\n",
    "\n",
    "<a target=\"_blank\" href=\"https://colab.research.google.com/github/IT-HUSET/ai-agents-course-2025/blob/main/exercises/1.3-structured-outputs.ipynb\">\n",
    "  <img src=\"https://colab.research.google.com/assets/colab-badge.svg\" alt=\"Open In Colab\"/>\n",
    "</a>"
   ]
  },
  {
   "cell_type": "markdown",
   "metadata": {},
   "source": [
    "## Setup"
   ]
  },
  {
   "cell_type": "code",
   "execution_count": null,
   "metadata": {},
   "outputs": [],
   "source": [
    "%pip install openai~=2.1 python-dotenv~=1.0 pydantic~=2.0 --upgrade --quiet"
   ]
  },
  {
   "cell_type": "code",
   "execution_count": null,
   "metadata": {},
   "outputs": [],
   "source": "import os\nimport json\nfrom openai import OpenAI\nfrom pydantic import BaseModel\nfrom typing import List, Optional\nfrom enum import Enum\n\n# Check if running in Google Colab\ntry:\n    from google.colab import userdata\n    IN_COLAB = True\n    os.environ[\"OPENAI_API_KEY\"] = userdata.get('OPENAI_API_KEY')\n    print(\"✅ Running in Google Colab - API key loaded from secrets\")\nexcept ImportError:\n    IN_COLAB = False\n    try:\n        from dotenv import load_dotenv, find_dotenv\n        load_dotenv(find_dotenv())\n        print(\"✅ Running locally - API key loaded from .env file\")\n    except ImportError:\n        print(\"⚠️ python-dotenv not installed\")\n\nclient = OpenAI(api_key=os.getenv(\"OPENAI_API_KEY\"))\n\nif not os.getenv(\"OPENAI_API_KEY\"):\n    print(\"❌ OPENAI_API_KEY not found!\")\n    if IN_COLAB:\n        print(\"   → Click the key icon (🔑) in the left sidebar and add 'OPENAI_API_KEY'\")\nelse:\n    print(\"✅ Setup complete\")"
  },
  {
   "cell_type": "markdown",
   "metadata": {},
   "source": [
    "---\n",
    "\n",
    "## Part 1: Why Structured Outputs Matter\n",
    "\n",
    "**The Problem:** LLMs can produce inconsistent JSON, missing fields, or invalid formats.\n",
    "\n",
    "**The Solution:** Structured Outputs **guarantees** the response matches your JSON schema."
   ]
  },
  {
   "cell_type": "markdown",
   "metadata": {},
   "source": [
    "### Without Structured Outputs (Unreliable)"
   ]
  },
  {
   "cell_type": "code",
   "execution_count": null,
   "metadata": {},
   "outputs": [],
   "source": [
    "# Regular request - asking for JSON in prompt\n",
    "response = client.responses.create(\n",
    "    model=\"gpt-4o\",\n",
    "    input=\"\"\"Extract event information as JSON:\n",
    "    \n",
    "    \"Alice and Bob are meeting for coffee on Friday at 3pm at Starbucks.\"\n",
    "    \n",
    "    Return: {\"event_name\": ..., \"participants\": [...], \"time\": ..., \"location\": ...}\n",
    "    \"\"\"\n",
    ")\n",
    "\n",
    "print(\"Response:\")\n",
    "print(response.output_text)\n",
    "print(\"\\n⚠️  No guarantee this is valid JSON or matches our schema!\")"
   ]
  },
  {
   "cell_type": "markdown",
   "metadata": {},
   "source": [
    "### With Structured Outputs (Guaranteed)"
   ]
  },
  {
   "cell_type": "code",
   "execution_count": null,
   "metadata": {},
   "outputs": [],
   "source": [
    "# Define schema with Pydantic\n",
    "class EventInfo(BaseModel):\n",
    "    event_name: str\n",
    "    participants: List[str]\n",
    "    time: str\n",
    "    location: str\n",
    "\n",
    "# Request with structured output\n",
    "response = client.responses.parse(\n",
    "    model=\"gpt-4o\",\n",
    "    input=\"Extract event information: 'Alice and Bob are meeting for coffee on Friday at 3pm at Starbucks.'\",\n",
    "    text_format=EventInfo\n",
    ")\n",
    "\n",
    "# Get parsed object\n",
    "event = response.output_parsed\n",
    "\n",
    "print(\"Parsed Event:\")\n",
    "print(f\"Name: {event.event_name}\")\n",
    "print(f\"Participants: {event.participants}\")\n",
    "print(f\"Time: {event.time}\")\n",
    "print(f\"Location: {event.location}\")\n",
    "print(f\"\\nType: {type(event)}\")\n",
    "print(\"\\n✅ Guaranteed to match EventInfo schema!\")"
   ]
  },
  {
   "cell_type": "markdown",
   "metadata": {},
   "source": [
    "---\n",
    "\n",
    "## Part 2: Structured Outputs vs JSON Mode\n",
    "\n",
    "**JSON Mode** (`text: {format: {type: \"json_object\"}}`):\n",
    "- ✅ Guarantees valid JSON\n",
    "- ❌ Does NOT guarantee schema adherence\n",
    "\n",
    "**Structured Outputs** (`text_format=YourSchema`):\n",
    "- ✅ Guarantees valid JSON\n",
    "- ✅ Guarantees schema adherence\n",
    "- ✅ Type safety\n",
    "- ✅ Explicit refusals"
   ]
  },
  {
   "cell_type": "markdown",
   "metadata": {},
   "source": [
    "### JSON Mode Example"
   ]
  },
  {
   "cell_type": "code",
   "execution_count": null,
   "metadata": {},
   "outputs": [],
   "source": [
    "# JSON mode - only guarantees valid JSON\n",
    "response = client.responses.create(\n",
    "    model=\"gpt-4o\",\n",
    "    input=\"Extract user data as JSON: 'John Doe, 35 years old, engineer'\",\n",
    "    text={\"format\": {\"type\": \"json_object\"}}\n",
    ")\n",
    "\n",
    "print(\"JSON Mode Result:\")\n",
    "result = json.loads(response.output_text)\n",
    "print(json.dumps(result, indent=2))\n",
    "print(\"\\n⚠️  Field names and structure may vary! No schema guarantee.\")"
   ]
  },
  {
   "cell_type": "markdown",
   "metadata": {},
   "source": [
    "### Structured Outputs Example"
   ]
  },
  {
   "cell_type": "code",
   "execution_count": null,
   "metadata": {},
   "outputs": [],
   "source": [
    "# Define exact schema\n",
    "class UserProfile(BaseModel):\n",
    "    full_name: str\n",
    "    age: int\n",
    "    occupation: str\n",
    "\n",
    "# Structured outputs - guarantees schema\n",
    "response = client.responses.parse(\n",
    "    model=\"gpt-4o\",\n",
    "    input=\"Extract user data: 'John Doe, 35 years old, engineer'\",\n",
    "    text_format=UserProfile\n",
    ")\n",
    "\n",
    "user = response.output_parsed\n",
    "\n",
    "print(\"Structured Output Result:\")\n",
    "print(f\"Name: {user.full_name}\")\n",
    "print(f\"Age: {user.age}\")\n",
    "print(f\"Occupation: {user.occupation}\")\n",
    "print(\"\\n✅ Always has exactly these fields with correct types!\")"
   ]
  },
  {
   "cell_type": "markdown",
   "metadata": {},
   "source": [
    "---\n",
    "\n",
    "## Part 3: Defining Schemas with Pydantic\n",
    "\n",
    "Pydantic provides a clean way to define JSON schemas with type validation."
   ]
  },
  {
   "cell_type": "markdown",
   "metadata": {},
   "source": [
    "### Basic Schema"
   ]
  },
  {
   "cell_type": "code",
   "execution_count": null,
   "metadata": {},
   "outputs": [],
   "source": [
    "class Product(BaseModel):\n",
    "    name: str\n",
    "    price: float\n",
    "    in_stock: bool\n",
    "    categories: List[str]\n",
    "\n",
    "response = client.responses.parse(\n",
    "    model=\"gpt-4o\",\n",
    "    input=\"\"\"Extract product info: \n",
    "    'iPhone 15 Pro - $999 - Available now - Categories: Electronics, Phones, Apple'\"\"\",\n",
    "    text_format=Product\n",
    ")\n",
    "\n",
    "product = response.output_parsed\n",
    "print(f\"Product: {product.name}\")\n",
    "print(f\"Price: ${product.price}\")\n",
    "print(f\"In Stock: {product.in_stock}\")\n",
    "print(f\"Categories: {', '.join(product.categories)}\")"
   ]
  },
  {
   "cell_type": "markdown",
   "metadata": {},
   "source": [
    "### Using Enums for Controlled Values"
   ]
  },
  {
   "cell_type": "code",
   "execution_count": null,
   "metadata": {},
   "outputs": [],
   "source": [
    "class Priority(str, Enum):\n",
    "    LOW = \"low\"\n",
    "    MEDIUM = \"medium\"\n",
    "    HIGH = \"high\"\n",
    "    URGENT = \"urgent\"\n",
    "\n",
    "class TaskStatus(str, Enum):\n",
    "    TODO = \"todo\"\n",
    "    IN_PROGRESS = \"in_progress\"\n",
    "    DONE = \"done\"\n",
    "\n",
    "class Task(BaseModel):\n",
    "    title: str\n",
    "    priority: Priority\n",
    "    status: TaskStatus\n",
    "    due_date: Optional[str] = None\n",
    "\n",
    "response = client.responses.parse(\n",
    "    model=\"gpt-4o\",\n",
    "    input=\"Create a task: 'Fix critical bug in production ASAP'\",\n",
    "    text_format=Task\n",
    ")\n",
    "\n",
    "task = response.output_parsed\n",
    "print(f\"Task: {task.title}\")\n",
    "print(f\"Priority: {task.priority.value}\")\n",
    "print(f\"Status: {task.status.value}\")\n",
    "print(f\"\\n✅ Priority and status are guaranteed to be valid enum values!\")"
   ]
  },
  {
   "cell_type": "markdown",
   "metadata": {},
   "source": [
    "### Nested Objects"
   ]
  },
  {
   "cell_type": "code",
   "execution_count": null,
   "metadata": {},
   "outputs": [],
   "source": [
    "class Address(BaseModel):\n",
    "    street: str\n",
    "    city: str\n",
    "    country: str\n",
    "    postal_code: str\n",
    "\n",
    "class Contact(BaseModel):\n",
    "    name: str\n",
    "    email: str\n",
    "    phone: Optional[str] = None\n",
    "    address: Address\n",
    "\n",
    "response = client.responses.parse(\n",
    "    model=\"gpt-4o\",\n",
    "    input=\"\"\"Extract contact: \n",
    "    'Jane Smith, jane@example.com, lives at 123 Main St, Stockholm, Sweden, 11122'\"\"\",\n",
    "    text_format=Contact\n",
    ")\n",
    "\n",
    "contact = response.output_parsed\n",
    "print(f\"Name: {contact.name}\")\n",
    "print(f\"Email: {contact.email}\")\n",
    "print(f\"Address: {contact.address.street}, {contact.address.city}, {contact.address.country}\")"
   ]
  },
  {
   "cell_type": "markdown",
   "metadata": {},
   "source": [
    "### 🎯 Exercise 1: Define Your Schema\n",
    "\n",
    "**Task:** Create a schema for extracting information from movie reviews.\n",
    "\n",
    "**Requirements:**\n",
    "- Movie title\n",
    "- Rating (1-5 stars as enum)\n",
    "- Sentiment (positive/negative/neutral as enum)\n",
    "- Pros (list of strings)\n",
    "- Cons (list of strings)\n",
    "- Reviewer name (optional)\n",
    "\n",
    "**Test with:** \"Great movie! The cinematography was stunning and the plot kept me engaged. A bit long though. 4 stars. - John\""
   ]
  },
  {
   "cell_type": "code",
   "execution_count": null,
   "metadata": {},
   "outputs": [],
   "source": [
    "# YOUR CODE HERE\n",
    "\n",
    "# class Rating(str, Enum):\n",
    "#     TODO: Define ratings\n",
    "\n",
    "# class Sentiment(str, Enum):\n",
    "#     TODO: Define sentiments\n",
    "\n",
    "# class MovieReview(BaseModel):\n",
    "#     TODO: Define schema\n",
    "\n",
    "# Test it\n",
    "# review_text = \"Great movie! The cinematography was stunning and the plot kept me engaged. A bit long though. 4 stars. - John\"\n",
    "# response = client.responses.parse(...)\n",
    "# review = response.output_parsed\n",
    "# print(review)"
   ]
  },
  {
   "cell_type": "markdown",
   "metadata": {},
   "source": [
    "---\n",
    "\n",
    "## Part 4: Common Use Cases\n",
    "\n",
    "Structured Outputs excel at specific patterns."
   ]
  },
  {
   "cell_type": "markdown",
   "metadata": {},
   "source": [
    "### Use Case 1: Data Extraction"
   ]
  },
  {
   "cell_type": "code",
   "execution_count": null,
   "metadata": {},
   "outputs": [],
   "source": [
    "class InvoiceItem(BaseModel):\n",
    "    description: str\n",
    "    quantity: int\n",
    "    unit_price: float\n",
    "    total: float\n",
    "\n",
    "class Invoice(BaseModel):\n",
    "    invoice_number: str\n",
    "    date: str\n",
    "    customer_name: str\n",
    "    items: List[InvoiceItem]\n",
    "    subtotal: float\n",
    "    tax: float\n",
    "    total: float\n",
    "\n",
    "invoice_text = \"\"\"\n",
    "INVOICE #INV-2025-001\n",
    "Date: 2025-10-06\n",
    "Customer: Acme Corp\n",
    "\n",
    "Items:\n",
    "- Web Development (40 hours @ $150/hr): $6,000\n",
    "- Design Work (20 hours @ $100/hr): $2,000\n",
    "\n",
    "Subtotal: $8,000\n",
    "Tax (25%): $2,000\n",
    "Total: $10,000\n",
    "\"\"\"\n",
    "\n",
    "response = client.responses.parse(\n",
    "    model=\"gpt-4o\",\n",
    "    input=f\"Extract structured data from this invoice:\\n\\n{invoice_text}\",\n",
    "    text_format=Invoice\n",
    ")\n",
    "\n",
    "invoice = response.output_parsed\n",
    "print(f\"Invoice: {invoice.invoice_number}\")\n",
    "print(f\"Customer: {invoice.customer_name}\")\n",
    "print(f\"\\nItems:\")\n",
    "for item in invoice.items:\n",
    "    print(f\"  - {item.description}: ${item.total}\")\n",
    "print(f\"\\nTotal: ${invoice.total}\")"
   ]
  },
  {
   "cell_type": "markdown",
   "metadata": {},
   "source": [
    "### Use Case 2: Classification"
   ]
  },
  {
   "cell_type": "code",
   "execution_count": null,
   "metadata": {},
   "outputs": [],
   "source": [
    "class Category(str, Enum):\n",
    "    BUG = \"bug\"\n",
    "    FEATURE = \"feature\"\n",
    "    QUESTION = \"question\"\n",
    "    DOCUMENTATION = \"documentation\"\n",
    "\n",
    "class Severity(str, Enum):\n",
    "    LOW = \"low\"\n",
    "    MEDIUM = \"medium\"\n",
    "    HIGH = \"high\"\n",
    "    CRITICAL = \"critical\"\n",
    "\n",
    "class IssueClassification(BaseModel):\n",
    "    category: Category\n",
    "    severity: Severity\n",
    "    title: str\n",
    "    summary: str\n",
    "    requires_immediate_attention: bool\n",
    "\n",
    "issue_text = \"\"\"The application crashes when trying to upload files larger than 10MB. \n",
    "This is affecting all users and blocking production deployments. \n",
    "Error message: 'Memory allocation failed'.\"\"\"\n",
    "\n",
    "response = client.responses.parse(\n",
    "    model=\"gpt-4o\",\n",
    "    input=f\"Classify this issue:\\n\\n{issue_text}\",\n",
    "    text_format=IssueClassification\n",
    ")\n",
    "\n",
    "classification = response.output_parsed\n",
    "print(f\"Category: {classification.category.value}\")\n",
    "print(f\"Severity: {classification.severity.value}\")\n",
    "print(f\"Title: {classification.title}\")\n",
    "print(f\"Immediate attention: {classification.requires_immediate_attention}\")\n",
    "print(f\"\\nSummary: {classification.summary}\")"
   ]
  },
  {
   "cell_type": "markdown",
   "metadata": {},
   "source": [
    "### Use Case 3: Form Generation"
   ]
  },
  {
   "cell_type": "code",
   "execution_count": null,
   "metadata": {},
   "outputs": [],
   "source": [
    "class FieldType(str, Enum):\n",
    "    TEXT = \"text\"\n",
    "    EMAIL = \"email\"\n",
    "    NUMBER = \"number\"\n",
    "    TEXTAREA = \"textarea\"\n",
    "    SELECT = \"select\"\n",
    "    CHECKBOX = \"checkbox\"\n",
    "\n",
    "class FormField(BaseModel):\n",
    "    name: str\n",
    "    label: str\n",
    "    type: FieldType\n",
    "    required: bool\n",
    "    placeholder: Optional[str] = None\n",
    "    options: Optional[List[str]] = None  # For select fields\n",
    "\n",
    "class Form(BaseModel):\n",
    "    title: str\n",
    "    description: str\n",
    "    fields: List[FormField]\n",
    "\n",
    "response = client.responses.parse(\n",
    "    model=\"gpt-4o\",\n",
    "    input=\"\"\"Create a contact form with:\n",
    "    - Full name (required)\n",
    "    - Email (required)\n",
    "    - Phone number (optional)\n",
    "    - Inquiry type: General, Support, Sales (required dropdown)\n",
    "    - Message (required, multiline)\n",
    "    - Subscribe to newsletter (optional checkbox)\n",
    "    \"\"\",\n",
    "    text_format=Form\n",
    ")\n",
    "\n",
    "form = response.output_parsed\n",
    "print(f\"Form: {form.title}\")\n",
    "print(f\"Description: {form.description}\")\n",
    "print(f\"\\nFields:\")\n",
    "for field in form.fields:\n",
    "    required = \"*\" if field.required else \"\"\n",
    "    print(f\"  - {field.label}{required} ({field.type.value})\")\n",
    "    if field.options:\n",
    "        print(f\"    Options: {', '.join(field.options)}\")"
   ]
  },
  {
   "cell_type": "markdown",
   "metadata": {},
   "source": [
    "### 🎯 Exercise 2: Recipe Extractor\n",
    "\n",
    "**Task:** Build a recipe extractor that converts free-text recipes into structured data.\n",
    "\n",
    "**Schema requirements:**\n",
    "- Recipe name\n",
    "- Prep time (minutes)\n",
    "- Cook time (minutes)\n",
    "- Servings\n",
    "- Difficulty (easy/medium/hard)\n",
    "- Ingredients (list with name, quantity, unit)\n",
    "- Instructions (numbered steps)\n",
    "- Tags (list: vegetarian, vegan, gluten-free, etc.)\n",
    "\n",
    "**Test with a free-text recipe of your choice**"
   ]
  },
  {
   "cell_type": "code",
   "execution_count": null,
   "metadata": {},
   "outputs": [],
   "source": [
    "# YOUR CODE HERE\n",
    "\n",
    "# class Difficulty(str, Enum):\n",
    "#     TODO\n",
    "\n",
    "# class Ingredient(BaseModel):\n",
    "#     TODO\n",
    "\n",
    "# class Recipe(BaseModel):\n",
    "#     TODO\n",
    "\n",
    "# Test with a recipe\n",
    "# recipe_text = \"\"\"...\"\"\"\n",
    "# response = client.responses.parse(...)\n",
    "# recipe = response.output_parsed"
   ]
  },
  {
   "cell_type": "markdown",
   "metadata": {},
   "source": [
    "---\n",
    "\n",
    "## Part 5: Error Handling and Refusals\n",
    "\n",
    "Models may refuse to fulfill requests for safety reasons."
   ]
  },
  {
   "cell_type": "markdown",
   "metadata": {},
   "source": [
    "### Handling Refusals"
   ]
  },
  {
   "cell_type": "code",
   "execution_count": null,
   "metadata": {},
   "outputs": [],
   "source": [
    "class PersonalInfo(BaseModel):\n",
    "    name: str\n",
    "    address: str\n",
    "    ssn: str\n",
    "\n",
    "# This might trigger a refusal\n",
    "try:\n",
    "    response = client.responses.parse(\n",
    "        model=\"gpt-4o\",\n",
    "        input=\"Extract personal info: 'John Doe, 123 Main St, SSN: 123-45-6789'\",\n",
    "        text_format=PersonalInfo\n",
    "    )\n",
    "    \n",
    "    # Check for refusal\n",
    "    if response.output[0].content[0].type == \"refusal\":\n",
    "        print(\"❌ Model refused:\")\n",
    "        print(response.output[0].content[0].refusal)\n",
    "    else:\n",
    "        person = response.output_parsed\n",
    "        print(f\"✅ Extracted: {person.name}\")\n",
    "except Exception as e:\n",
    "    print(f\"Error: {e}\")"
   ]
  },
  {
   "cell_type": "markdown",
   "metadata": {},
   "source": [
    "### Handling Incomplete Responses"
   ]
  },
  {
   "cell_type": "code",
   "execution_count": null,
   "metadata": {},
   "outputs": [],
   "source": [
    "# Small max tokens - might be incomplete\n",
    "class ArticleSummary(BaseModel):\n",
    "    title: str\n",
    "    key_points: List[str]\n",
    "    conclusion: str\n",
    "\n",
    "try:\n",
    "    response = client.responses.parse(\n",
    "        model=\"gpt-4o\",\n",
    "        input=\"Summarize this 10-page article about AI...\",\n",
    "        text_format=ArticleSummary,\n",
    "        max_output_tokens=50  # Intentionally small\n",
    "    )\n",
    "    \n",
    "    # Check completion status\n",
    "    if response.status == \"incomplete\":\n",
    "        print(f\"⚠️  Incomplete response: {response.incomplete_details.reason}\")\n",
    "        if response.incomplete_details.reason == \"max_output_tokens\":\n",
    "            print(\"Increase max_output_tokens and retry\")\n",
    "    else:\n",
    "        summary = response.output_parsed\n",
    "        print(f\"✅ Complete: {summary.title}\")\n",
    "except Exception as e:\n",
    "    print(f\"Error: {e}\")"
   ]
  },
  {
   "cell_type": "markdown",
   "metadata": {},
   "source": [
    "### Proper Error Handling Pattern"
   ]
  },
  {
   "cell_type": "code",
   "execution_count": null,
   "metadata": {},
   "outputs": [],
   "source": [
    "def safe_parse(prompt: str, schema: type[BaseModel], max_retries: int = 2):\n",
    "    \"\"\"Safely parse with error handling and retries\"\"\"\n",
    "    \n",
    "    for attempt in range(max_retries):\n",
    "        try:\n",
    "            response = client.responses.parse(\n",
    "                model=\"gpt-4o\",\n",
    "                input=prompt,\n",
    "                text_format=schema\n",
    "            )\n",
    "            \n",
    "            # Check for refusal\n",
    "            if response.output[0].content[0].type == \"refusal\":\n",
    "                return {\n",
    "                    \"success\": False,\n",
    "                    \"error\": \"refusal\",\n",
    "                    \"message\": response.output[0].content[0].refusal\n",
    "                }\n",
    "            \n",
    "            # Check for incomplete\n",
    "            if response.status == \"incomplete\":\n",
    "                return {\n",
    "                    \"success\": False,\n",
    "                    \"error\": \"incomplete\",\n",
    "                    \"reason\": response.incomplete_details.reason\n",
    "                }\n",
    "            \n",
    "            # Success!\n",
    "            return {\n",
    "                \"success\": True,\n",
    "                \"data\": response.output_parsed\n",
    "            }\n",
    "            \n",
    "        except Exception as e:\n",
    "            if attempt < max_retries - 1:\n",
    "                print(f\"Attempt {attempt + 1} failed, retrying...\")\n",
    "                continue\n",
    "            return {\n",
    "                \"success\": False,\n",
    "                \"error\": \"exception\",\n",
    "                \"message\": str(e)\n",
    "            }\n",
    "\n",
    "# Test it\n",
    "result = safe_parse(\n",
    "    \"Extract product: 'iPhone 15 - $999'\",\n",
    "    Product\n",
    ")\n",
    "\n",
    "if result[\"success\"]:\n",
    "    print(f\"✅ Success: {result['data'].name}\")\n",
    "else:\n",
    "    print(f\"❌ Error ({result['error']}): {result.get('message', result.get('reason'))}\")"
   ]
  },
  {
   "cell_type": "markdown",
   "metadata": {},
   "source": [
    "---\n",
    "\n",
    "## Part 6: Streaming Structured Outputs\n",
    "\n",
    "You can stream structured outputs for better UX."
   ]
  },
  {
   "cell_type": "code",
   "execution_count": null,
   "metadata": {},
   "outputs": [],
   "source": [
    "class BlogPost(BaseModel):\n",
    "    title: str\n",
    "    sections: List[str]\n",
    "    conclusion: str\n",
    "\n",
    "print(\"Streaming structured output:\")\n",
    "print(\"=\" * 50)\n",
    "\n",
    "with client.responses.stream(\n",
    "    model=\"gpt-4o\",\n",
    "    input=\"Write a short blog post about AI agents\",\n",
    "    text_format=BlogPost\n",
    ") as stream:\n",
    "    for event in stream:\n",
    "        if event.type == \"response.output_text.delta\":\n",
    "            print(event.delta, end=\"\", flush=True)\n",
    "        elif event.type == \"response.completed\":\n",
    "            print(\"\\n\" + \"=\" * 50)\n",
    "            print(\"\\n✅ Streaming complete\")\n",
    "    \n",
    "    # Get final parsed object\n",
    "    final_response = stream.get_final_response()\n",
    "    blog = final_response.output_parsed\n",
    "\n",
    "print(f\"\\nBlog post: {blog.title}\")\n",
    "print(f\"Sections: {len(blog.sections)}\")"
   ]
  },
  {
   "cell_type": "markdown",
   "metadata": {},
   "source": [
    "---\n",
    "\n",
    "## Part 7: Advanced Patterns\n",
    "\n",
    "### Chain-of-Thought with Structured Outputs"
   ]
  },
  {
   "cell_type": "code",
   "execution_count": null,
   "metadata": {},
   "outputs": [],
   "source": [
    "class ReasoningStep(BaseModel):\n",
    "    explanation: str\n",
    "    output: str\n",
    "\n",
    "class MathSolution(BaseModel):\n",
    "    steps: List[ReasoningStep]\n",
    "    final_answer: str\n",
    "\n",
    "response = client.responses.parse(\n",
    "    model=\"gpt-4o\",\n",
    "    input=\"Solve step-by-step: What is 15% of 240?\",\n",
    "    text_format=MathSolution\n",
    ")\n",
    "\n",
    "solution = response.output_parsed\n",
    "\n",
    "print(\"Solution steps:\")\n",
    "for i, step in enumerate(solution.steps, 1):\n",
    "    print(f\"\\nStep {i}:\")\n",
    "    print(f\"  {step.explanation}\")\n",
    "    print(f\"  → {step.output}\")\n",
    "\n",
    "print(f\"\\n✅ Final Answer: {solution.final_answer}\")"
   ]
  },
  {
   "cell_type": "markdown",
   "metadata": {},
   "source": [
    "### Recursive Schemas"
   ]
  },
  {
   "cell_type": "code",
   "execution_count": null,
   "metadata": {},
   "outputs": [],
   "source": [
    "from __future__ import annotations\n",
    "from typing import List\n",
    "\n",
    "class UIComponent(BaseModel):\n",
    "    type: str  # div, button, form, etc.\n",
    "    label: str\n",
    "    children: List[UIComponent] = []  # Recursive!\n",
    "\n",
    "# Required for recursive models\n",
    "UIComponent.model_rebuild()\n",
    "\n",
    "response = client.responses.parse(\n",
    "    model=\"gpt-4o\",\n",
    "    input=\"Create a simple login form UI structure\",\n",
    "    text_format=UIComponent\n",
    ")\n",
    "\n",
    "ui = response.output_parsed\n",
    "\n",
    "def print_ui(component: UIComponent, indent: int = 0):\n",
    "    \"\"\"Recursively print UI structure\"\"\"\n",
    "    print(\"  \" * indent + f\"<{component.type}> {component.label}\")\n",
    "    for child in component.children:\n",
    "        print_ui(child, indent + 1)\n",
    "\n",
    "print(\"UI Structure:\")\n",
    "print_ui(ui)"
   ]
  },
  {
   "cell_type": "markdown",
   "metadata": {},
   "source": [
    "### 🎯 Exercise 3: Complete Application\n",
    "\n",
    "**Task:** Build a customer support ticket analyzer.\n",
    "\n",
    "**Requirements:**\n",
    "1. Create schemas for:\n",
    "   - Ticket classification (category, urgency, sentiment)\n",
    "   - Extracted entities (customer name, product, issue)\n",
    "   - Suggested actions (list of next steps)\n",
    "\n",
    "2. Implement:\n",
    "   - Safe parsing with error handling\n",
    "   - Streaming output\n",
    "   - Pretty printing of results\n",
    "\n",
    "3. Test with multiple ticket examples"
   ]
  },
  {
   "cell_type": "code",
   "execution_count": null,
   "metadata": {},
   "outputs": [],
   "source": [
    "# YOUR CODE HERE\n",
    "\n",
    "# Define your schemas\n",
    "# Implement ticket analyzer\n",
    "# Test with example tickets\n",
    "\n",
    "ticket_example = \"\"\"\n",
    "Subject: Urgent - Payment Failed\n",
    "From: jane@example.com\n",
    "\n",
    "Hi, I tried to pay for my premium subscription but the payment keeps failing. \n",
    "I've tried 3 different cards and none work. This is really frustrating as I need \n",
    "access to the premium features for an important presentation tomorrow.\n",
    "\n",
    "Can you help?\n",
    "Jane\n",
    "\"\"\""
   ]
  },
  {
   "cell_type": "markdown",
   "metadata": {},
   "source": [
    "---\n",
    "\n",
    "## Summary\n",
    "\n",
    "In this notebook, you learned:\n",
    "\n",
    "✅ **Why Structured Outputs:** Guaranteed schema adherence vs ad-hoc JSON  \n",
    "✅ **Pydantic schemas:** Types, enums, nested objects, optional fields  \n",
    "✅ **Common use cases:** Data extraction, classification, form generation  \n",
    "✅ **Error handling:** Refusals, incomplete responses, retries  \n",
    "✅ **Streaming:** Real-time structured output generation  \n",
    "✅ **Advanced patterns:** Chain-of-thought, recursive schemas  \n",
    "\n",
    "**Key Takeaways:**\n",
    "- Always use Structured Outputs for production applications\n",
    "- Define clear schemas with Pydantic\n",
    "- Handle errors gracefully (refusals, incomplete)\n",
    "- Use enums for controlled values\n",
    "- Stream for better UX\n",
    "\n",
    "**Next Steps:**\n",
    "- Notebook 1.4: Prompt Engineering (improve quality of structured outputs)\n",
    "- Notebook 1.5: Context Management (handle long conversations)\n",
    "- Notebook 1.6: Agentic Applications (combine with tools)\n",
    "\n",
    "**Resources:**\n",
    "- [Structured Outputs Documentation](https://platform.openai.com/docs/guides/structured-outputs)\n",
    "- [Pydantic Documentation](https://docs.pydantic.dev/)\n",
    "- [OpenAI Cookbook - Structured Outputs](https://cookbook.openai.com/examples/structured_outputs_intro)"
   ]
  }
 ],
 "metadata": {
  "kernelspec": {
   "display_name": "Python 3",
   "language": "python",
   "name": "python3"
  },
  "language_info": {
   "name": "python",
   "version": "3.11.0"
  }
 },
 "nbformat": 4,
 "nbformat_minor": 2
}