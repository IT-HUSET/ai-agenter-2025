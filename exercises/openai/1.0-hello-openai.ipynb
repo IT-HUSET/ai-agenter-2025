{
 "cells": [
  {
   "cell_type": "markdown",
   "metadata": {},
   "source": [
    "# 1.0 Hello OpenAI - Your First API Call\n",
    "\n",
    "Welcome! This notebook will help you make your **first successful OpenAI API call** in just a few minutes.\n",
    "\n",
    "**What you'll learn:**\n",
    "- How to install the OpenAI Python library\n",
    "- How to set up your API key\n",
    "- How to make your first API call\n",
    "- How to customize the AI's behavior\n",
    "\n",
    "**Time to complete:** 5-10 minutes\n",
    "\n",
    "<a target=\"_blank\" href=\"https://githubtocolab.com/IT-HUSET/ai-agenter-2025/blob/main/exercises/openai/1.0-hello-openai.ipynb\">\n",
    "  <img src=\"https://colab.research.google.com/assets/colab-badge.svg\" alt=\"Open In Colab\"/>\n",
    "</a>"
   ]
  },
  {
   "cell_type": "markdown",
   "metadata": {},
   "source": [
    "## Step 1: Install the OpenAI Library\n",
    "\n",
    "First, we need to install the OpenAI Python package:"
   ]
  },
  {
   "cell_type": "code",
   "execution_count": null,
   "metadata": {},
   "outputs": [],
   "source": [
    "%pip install openai~=2.1 python-dotenv~=1.0 --upgrade --quiet"
   ]
  },
  {
   "cell_type": "markdown",
   "metadata": {},
   "source": [
    "## Step 2: Set Up Your API Key\n",
    "\n",
    "You need an OpenAI API key to make requests. \n",
    "\n",
    "**For Google Colab:**\n",
    "1. Click the key icon (🔑) in the left sidebar\n",
    "2. Add a new secret named `OPENAI_API_KEY`\n",
    "3. Paste your API key as the value\n",
    "4. Toggle \"Notebook access\" to enable it\n",
    "\n",
    "**For local development:**\n",
    "Create a file named `.env` in the same directory as this notebook:\n",
    "```\n",
    "OPENAI_API_KEY=your-api-key-here\n",
    "```"
   ]
  },
  {
   "cell_type": "code",
   "execution_count": null,
   "metadata": {},
   "outputs": [],
   "source": [
    "import os\n",
    "from openai import OpenAI\n",
    "\n",
    "# Check if running in Google Colab\n",
    "try:\n",
    "    from google.colab import userdata\n",
    "    IN_COLAB = True\n",
    "    # Get API key from Colab secrets\n",
    "    os.environ[\"OPENAI_API_KEY\"] = userdata.get('OPENAI_API_KEY')\n",
    "    print(\"✅ Running in Google Colab - API key loaded from secrets\")\n",
    "except ImportError:\n",
    "    IN_COLAB = False\n",
    "    # Load from .env file for local development\n",
    "    try:\n",
    "        from dotenv import load_dotenv, find_dotenv\n",
    "        load_dotenv(find_dotenv())\n",
    "        print(\"✅ Running locally - API key loaded from .env file\")\n",
    "    except ImportError:\n",
    "        print(\"⚠️ python-dotenv not installed. Install with: pip install python-dotenv\")\n",
    "\n",
    "# Create the OpenAI client\n",
    "client = OpenAI(api_key=os.getenv(\"OPENAI_API_KEY\"))\n",
    "\n",
    "if not os.getenv(\"OPENAI_API_KEY\"):\n",
    "    print(\"❌ OPENAI_API_KEY not found!\")\n",
    "    if IN_COLAB:\n",
    "        print(\"   → Click the key icon (🔑) in the left sidebar\")\n",
    "        print(\"   → Add a secret named 'OPENAI_API_KEY'\")\n",
    "        print(\"   → Toggle 'Notebook access' to enable it\")\n",
    "    else:\n",
    "        print(\"   → Create a .env file with: OPENAI_API_KEY=your-key-here\")\n",
    "else:\n",
    "    print(\"✅ OpenAI client initialized!\")"
   ]
  },
  {
   "cell_type": "markdown",
   "metadata": {},
   "source": [
    "## Step 3: Your First API Call 🎉\n",
    "\n",
    "Let's make the simplest possible API call using the **Responses API**:"
   ]
  },
  {
   "cell_type": "code",
   "execution_count": null,
   "metadata": {},
   "outputs": [],
   "source": [
    "# Make your first API call!\n",
    "response = client.responses.create(\n",
    "    model=\"gpt-5-mini\",\n",
    "    input=\"Hello! What can you help me with?\"\n",
    ")\n",
    "\n",
    "# Print the response\n",
    "print(response.output_text)"
   ]
  },
  {
   "cell_type": "markdown",
   "metadata": {},
   "source": [
    "**Congratulations! 🎉** You just made your first OpenAI API call!\n",
    "\n",
    "Let's break down what happened:\n",
    "- `model=\"gpt-5-mini\"` - We're using GPT-5-mini (fast and affordable)\n",
    "- `input=\"...\"` - This is what we're asking the AI\n",
    "- `response.output_text` - This is the AI's reply"
   ]
  },
  {
   "cell_type": "markdown",
   "metadata": {},
   "source": [
    "## Step 4: Customize the AI's Behavior\n",
    "\n",
    "You can give the AI **instructions** to change how it responds:"
   ]
  },
  {
   "cell_type": "code",
   "execution_count": null,
   "metadata": {},
   "outputs": [],
   "source": [
    "# Give the AI specific instructions\n",
    "response = client.responses.create(\n",
    "    model=\"gpt-5-mini\",\n",
    "    instructions=\"You are a friendly Python programming teacher. Keep answers concise and use simple language.\",\n",
    "    input=\"What is a variable in Python?\"\n",
    ")\n",
    "\n",
    "print(response.output_text)"
   ]
  },
  {
   "cell_type": "markdown",
   "metadata": {},
   "source": [
    "Notice how the AI adapted its response based on the `instructions` parameter!\n",
    "\n",
    "**Try changing:**\n",
    "- The instructions (e.g., \"You are a pirate\", \"You answer in haiku\")\n",
    "- The input question\n",
    "- The model (try `\"gpt-5\"` for higher quality)"
   ]
  },
  {
   "cell_type": "markdown",
   "metadata": {},
   "source": [
    "## Step 5: Try Different Questions\n",
    "\n",
    "Now it's your turn! Experiment with different prompts:"
   ]
  },
  {
   "cell_type": "code",
   "execution_count": null,
   "metadata": {},
   "outputs": [],
   "source": [
    "# Try your own prompts here!\n",
    "response = client.responses.create(\n",
    "    model=\"gpt-5-mini\",\n",
    "    input=\"Your question here\"\n",
    ")\n",
    "\n",
    "print(response.output_text)"
   ]
  },
  {
   "cell_type": "markdown",
   "metadata": {},
   "source": [
    "### 🎯 Mini Exercise\n",
    "\n",
    "Try creating an AI that:\n",
    "1. Acts as a recipe generator\n",
    "2. Explains code like you're 10 years old\n",
    "3. Writes haikus about programming\n",
    "\n",
    "Just change the `instructions` and `input` parameters!"
   ]
  },
  {
   "cell_type": "code",
   "execution_count": null,
   "metadata": {},
   "outputs": [],
   "source": [
    "# YOUR CODE HERE\n",
    "# Try the exercises above!\n"
   ]
  },
  {
   "cell_type": "markdown",
   "metadata": {},
   "source": [
    "## Understanding Your API Usage\n",
    "\n",
    "Each API call costs a small amount based on **tokens** (pieces of text).\n",
    "\n",
    "You can check how many tokens you used:"
   ]
  },
  {
   "cell_type": "code",
   "execution_count": null,
   "metadata": {},
   "outputs": [],
   "source": [
    "# Make a call and check token usage\n",
    "response = client.responses.create(\n",
    "    model=\"gpt-5-mini\",\n",
    "    input=\"Tell me a short joke about programming\"\n",
    ")\n",
    "\n",
    "print(\"Response:\")\n",
    "print(response.output_text)\n",
    "print(\"\\n\" + \"=\"*50)\n",
    "print(\"Token usage:\")\n",
    "print(f\"Input tokens: {response.usage.input_tokens}\")\n",
    "print(f\"Output tokens: {response.usage.output_tokens}\")\n",
    "print(f\"Total tokens: {response.usage.total_tokens}\")\n",
    "\n",
    "# Calculate cost (GPT-5-mini pricing: $0.25 per 1M input, $2.00 per 1M output)\n",
    "input_cost = (response.usage.input_tokens / 1_000_000) * 0.25\n",
    "output_cost = (response.usage.output_tokens / 1_000_000) * 2.00\n",
    "total_cost = input_cost + output_cost\n",
    "\n",
    "print(f\"\\nEstimated cost: ${total_cost:.6f}\")"
   ]
  },
  {
   "cell_type": "markdown",
   "metadata": {},
   "source": [
    "**Don't worry!** Each call typically costs less than a cent. GPT-5-mini is very affordable for learning and experimentation."
   ]
  },
  {
   "cell_type": "markdown",
   "metadata": {},
   "source": [
    "---\n",
    "\n",
    "## 🎉 Congratulations!\n",
    "\n",
    "You've successfully:\n",
    "- ✅ Set up the OpenAI library\n",
    "- ✅ Made your first API call\n",
    "- ✅ Customized the AI's behavior with instructions\n",
    "- ✅ Understood token usage and costs\n",
    "\n",
    "## What's Next?\n",
    "\n",
    "Now that you've made your first API call, you're ready to learn more:\n",
    "\n",
    "**Next notebook:** [1.1 OpenAI API Basics](./1.1-openai-api-basics.ipynb)\n",
    "- Learn about **Chat Completions API** (more control)\n",
    "- Build **conversations** with memory\n",
    "- Understand **message roles** (system, user, assistant)\n",
    "- Create a **conversation manager**\n",
    "\n",
    "**Then continue to:**\n",
    "- **1.2**: Advanced features (function calling, reasoning modes)\n",
    "- **1.3**: Structured outputs (reliable data extraction)\n",
    "- **1.4**: Prompt engineering (better results)\n",
    "- **1.5**: Context management (long conversations)\n",
    "- **1.6**: Agentic applications (build AI agents)\n",
    "\n",
    "## Resources\n",
    "\n",
    "- [OpenAI API Documentation](https://platform.openai.com/docs)\n",
    "- [Responses API Guide](https://platform.openai.com/docs/api-reference/responses)\n",
    "- [Pricing Calculator](https://openai.com/pricing)\n",
    "- [Community Forum](https://community.openai.com/)\n",
    "\n",
    "**Happy coding!** 🚀"
   ]
  }
 ],
 "metadata": {
  "kernelspec": {
   "display_name": "ai-agents-course",
   "language": "python",
   "name": "python3"
  },
  "language_info": {
   "codemirror_mode": {
    "name": "ipython",
    "version": 3
   },
   "file_extension": ".py",
   "mimetype": "text/x-python",
   "name": "python",
   "nbconvert_exporter": "python",
   "pygments_lexer": "ipython3",
   "version": "3.12.11"
  }
 },
 "nbformat": 4,
 "nbformat_minor": 4
}
